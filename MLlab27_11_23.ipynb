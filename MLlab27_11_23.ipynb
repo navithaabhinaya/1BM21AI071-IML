{
  "nbformat": 4,
  "nbformat_minor": 0,
  "metadata": {
    "colab": {
      "provenance": []
    },
    "kernelspec": {
      "name": "python3",
      "display_name": "Python 3"
    },
    "language_info": {
      "name": "python"
    }
  },
  "cells": [
    {
      "cell_type": "code",
      "source": [
        "import numpy as np\n",
        "import pandas as pd\n",
        "\n",
        "data = pd.read_csv(\"df2.csv\")\n",
        "concepts = np.array(data.iloc[:, 0:-1])\n",
        "print(\"\\nInstances are:\\n\", concepts)\n",
        "target = np.array(data.iloc[:, -1])\n",
        "print(\"\\nTarget Values are: \", target)\n",
        "\n",
        "def learn(concepts, target):\n",
        "    positive_instances = [concepts[i] for i in range(len(concepts)) if target[i] == 'yes']\n",
        "    specific_h = positive_instances[0].copy()\n",
        "    print(\"\\nInitialization of specific_h and generic_h\")\n",
        "    print(\"\\nSpecific Boundary: \", specific_h)\n",
        "    general_h = [['?' for _ in range(len(specific_h))] for _ in range(len(specific_h))]\n",
        "    print(\"\\nGeneric Boundary: \", general_h)\n",
        "\n",
        "    for i, h in enumerate(concepts):\n",
        "        print(\"\\nInstance\", i + 1, \"is \", h)\n",
        "        if target[i] == \"yes\":\n",
        "            print(\"Instance is Positive \")\n",
        "            for x in range(len(specific_h)):\n",
        "                if h[x] != specific_h[x]:\n",
        "                    specific_h[x] = '?'\n",
        "                    general_h[x][x] = '?'\n",
        "\n",
        "        if target[i] == \"no\":\n",
        "            print(\"Instance is Negative \")\n",
        "            for x in range(len(specific_h)):\n",
        "                if h[x] != specific_h[x]:\n",
        "                    general_h[x][x] = specific_h[x]\n",
        "                else:\n",
        "                    general_h[x][x] = '?'\n",
        "\n",
        "        print(\"Specific Boundary after \", i + 1, \"Instance is \", specific_h)\n",
        "        print(\"Generic Boundary after \", i + 1, \"Instance is \", general_h)\n",
        "        print(\"\\n\")\n",
        "\n",
        "    # Clean up the redundant hypotheses in the generic boundary\n",
        "    indices = [i for i, val in enumerate(general_h) if val == ['?' for _ in range(len(specific_h))]]\n",
        "    for i in indices:\n",
        "        general_h.remove(['?' for _ in range(len(specific_h))])\n",
        "    return specific_h, general_h\n",
        "\n",
        "s_final, g_final = learn(concepts, target)\n",
        "\n",
        "print(\"Final Specific_h: \", s_final, sep=\"\\n\")\n",
        "print(\"Final General_h: \", g_final, sep=\"\\n\")\n"
      ],
      "metadata": {
        "colab": {
          "base_uri": "https://localhost:8080/"
        },
        "id": "L_ZrbFDsKyxa",
        "outputId": "10e01581-e721-4e4d-b249-6a70cc5c0579"
      },
      "execution_count": 11,
      "outputs": [
        {
          "output_type": "stream",
          "name": "stdout",
          "text": [
            "\n",
            "Instances are:\n",
            " [['some' 'small' 'no' 'affordable' 'one']\n",
            " ['many' 'big' 'no' 'expensive' 'many']\n",
            " ['many' 'medium' 'no' 'expensive' 'few']\n",
            " ['many' 'small' 'no' 'affordable' 'many']]\n",
            "\n",
            "Target Values are:  ['no' 'yes' 'yes' 'yes']\n",
            "\n",
            "Initialization of specific_h and generic_h\n",
            "\n",
            "Specific Boundary:  ['many' 'big' 'no' 'expensive' 'many']\n",
            "\n",
            "Generic Boundary:  [['?', '?', '?', '?', '?'], ['?', '?', '?', '?', '?'], ['?', '?', '?', '?', '?'], ['?', '?', '?', '?', '?'], ['?', '?', '?', '?', '?']]\n",
            "\n",
            "Instance 1 is  ['some' 'small' 'no' 'affordable' 'one']\n",
            "Instance is Negative \n",
            "Specific Boundary after  1 Instance is  ['many' 'big' 'no' 'expensive' 'many']\n",
            "Generic Boundary after  1 Instance is  [['many', '?', '?', '?', '?'], ['?', 'big', '?', '?', '?'], ['?', '?', '?', '?', '?'], ['?', '?', '?', 'expensive', '?'], ['?', '?', '?', '?', 'many']]\n",
            "\n",
            "\n",
            "\n",
            "Instance 2 is  ['many' 'big' 'no' 'expensive' 'many']\n",
            "Instance is Positive \n",
            "Specific Boundary after  2 Instance is  ['many' 'big' 'no' 'expensive' 'many']\n",
            "Generic Boundary after  2 Instance is  [['many', '?', '?', '?', '?'], ['?', 'big', '?', '?', '?'], ['?', '?', '?', '?', '?'], ['?', '?', '?', 'expensive', '?'], ['?', '?', '?', '?', 'many']]\n",
            "\n",
            "\n",
            "\n",
            "Instance 3 is  ['many' 'medium' 'no' 'expensive' 'few']\n",
            "Instance is Positive \n",
            "Specific Boundary after  3 Instance is  ['many' '?' 'no' 'expensive' '?']\n",
            "Generic Boundary after  3 Instance is  [['many', '?', '?', '?', '?'], ['?', '?', '?', '?', '?'], ['?', '?', '?', '?', '?'], ['?', '?', '?', 'expensive', '?'], ['?', '?', '?', '?', '?']]\n",
            "\n",
            "\n",
            "\n",
            "Instance 4 is  ['many' 'small' 'no' 'affordable' 'many']\n",
            "Instance is Positive \n",
            "Specific Boundary after  4 Instance is  ['many' '?' 'no' '?' '?']\n",
            "Generic Boundary after  4 Instance is  [['many', '?', '?', '?', '?'], ['?', '?', '?', '?', '?'], ['?', '?', '?', '?', '?'], ['?', '?', '?', '?', '?'], ['?', '?', '?', '?', '?']]\n",
            "\n",
            "\n",
            "Final Specific_h: \n",
            "['many' '?' 'no' '?' '?']\n",
            "Final General_h: \n",
            "[['many', '?', '?', '?', '?']]\n"
          ]
        }
      ]
    }
  ]
}